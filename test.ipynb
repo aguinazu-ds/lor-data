{
 "cells": [
  {
   "cell_type": "code",
   "execution_count": 57,
   "metadata": {},
   "outputs": [],
   "source": [
    "import pandas as pd\n",
    "import json\n",
    "from api_token import api_token_var\n",
    "from get_match_info_by_id import get_match_info_by_id\n",
    "from get_matchs_by_ppuid import get_matchs_by_ppuid\n",
    "from get_name_and_tag_by_ppuid import get_name_and_tag_by_ppuid\n",
    "from write_to_json import write_to_json\n",
    "\n",
    "\n",
    "df = pd.json_normalize(pd.read_json('data/master-leaderboard-data/data_americas.json').iloc[:,0])"
   ]
  },
  {
   "cell_type": "code",
   "execution_count": 49,
   "metadata": {},
   "outputs": [
    {
     "data": {
      "text/html": [
       "<div>\n",
       "<style scoped>\n",
       "    .dataframe tbody tr th:only-of-type {\n",
       "        vertical-align: middle;\n",
       "    }\n",
       "\n",
       "    .dataframe tbody tr th {\n",
       "        vertical-align: top;\n",
       "    }\n",
       "\n",
       "    .dataframe thead th {\n",
       "        text-align: right;\n",
       "    }\n",
       "</style>\n",
       "<table border=\"1\" class=\"dataframe\">\n",
       "  <thead>\n",
       "    <tr style=\"text-align: right;\">\n",
       "      <th></th>\n",
       "      <th>name</th>\n",
       "      <th>rank</th>\n",
       "      <th>lp</th>\n",
       "    </tr>\n",
       "  </thead>\n",
       "  <tbody>\n",
       "    <tr>\n",
       "      <th>0</th>\n",
       "      <td>Kevor24</td>\n",
       "      <td>0</td>\n",
       "      <td>1015.0</td>\n",
       "    </tr>\n",
       "    <tr>\n",
       "      <th>1</th>\n",
       "      <td>ENiamor</td>\n",
       "      <td>1</td>\n",
       "      <td>1001.0</td>\n",
       "    </tr>\n",
       "    <tr>\n",
       "      <th>2</th>\n",
       "      <td>Linister</td>\n",
       "      <td>2</td>\n",
       "      <td>661.0</td>\n",
       "    </tr>\n",
       "    <tr>\n",
       "      <th>3</th>\n",
       "      <td>maybenextime</td>\n",
       "      <td>3</td>\n",
       "      <td>658.0</td>\n",
       "    </tr>\n",
       "    <tr>\n",
       "      <th>4</th>\n",
       "      <td>HDR Dudu de Nunu</td>\n",
       "      <td>4</td>\n",
       "      <td>652.0</td>\n",
       "    </tr>\n",
       "    <tr>\n",
       "      <th>...</th>\n",
       "      <td>...</td>\n",
       "      <td>...</td>\n",
       "      <td>...</td>\n",
       "    </tr>\n",
       "    <tr>\n",
       "      <th>1361</th>\n",
       "      <td>RÎBÕTTÅ</td>\n",
       "      <td>1361</td>\n",
       "      <td>0.0</td>\n",
       "    </tr>\n",
       "    <tr>\n",
       "      <th>1362</th>\n",
       "      <td>JGoddy</td>\n",
       "      <td>1362</td>\n",
       "      <td>0.0</td>\n",
       "    </tr>\n",
       "    <tr>\n",
       "      <th>1363</th>\n",
       "      <td>Eriey</td>\n",
       "      <td>1363</td>\n",
       "      <td>0.0</td>\n",
       "    </tr>\n",
       "    <tr>\n",
       "      <th>1364</th>\n",
       "      <td>SYG bulym</td>\n",
       "      <td>1364</td>\n",
       "      <td>0.0</td>\n",
       "    </tr>\n",
       "    <tr>\n",
       "      <th>1365</th>\n",
       "      <td>Rhodeni</td>\n",
       "      <td>1365</td>\n",
       "      <td>0.0</td>\n",
       "    </tr>\n",
       "  </tbody>\n",
       "</table>\n",
       "<p>1366 rows × 3 columns</p>\n",
       "</div>"
      ],
      "text/plain": [
       "                  name  rank      lp\n",
       "0              Kevor24     0  1015.0\n",
       "1              ENiamor     1  1001.0\n",
       "2             Linister     2   661.0\n",
       "3         maybenextime     3   658.0\n",
       "4     HDR Dudu de Nunu     4   652.0\n",
       "...                ...   ...     ...\n",
       "1361           RÎBÕTTÅ  1361     0.0\n",
       "1362            JGoddy  1362     0.0\n",
       "1363             Eriey  1363     0.0\n",
       "1364         SYG bulym  1364     0.0\n",
       "1365           Rhodeni  1365     0.0\n",
       "\n",
       "[1366 rows x 3 columns]"
      ]
     },
     "execution_count": 49,
     "metadata": {},
     "output_type": "execute_result"
    }
   ],
   "source": [
    "df"
   ]
  },
  {
   "cell_type": "code",
   "execution_count": 34,
   "metadata": {},
   "outputs": [],
   "source": [
    "ppuid = '4xZwHkxuTzAjZRicTZsRGoEyYIlB1b0wJrfc7eBJHJU05O9n3zc_hjxbzZmRKKbysio5YxMwKrB1hA'\n",
    "\n",
    "list_match = get_matchs_by_ppuid(ppuid, 'americas') "
   ]
  },
  {
   "cell_type": "code",
   "execution_count": 36,
   "metadata": {},
   "outputs": [],
   "source": [
    "ppuid_list = []\n",
    "\n",
    "for i in range(len(list_match)):\n",
    "        match_info = get_match_info_by_id('americas', list_match[i])\n",
    "        if match_info[\"info\"][\"game_mode\"] == \"SeasonalTournamentLobby\" or match_info[\"info\"][\"game_type\"] == \"Ranked\" :\n",
    "            ppuid_list = ppuid_list + match_info['metadata']['participants']\n"
   ]
  },
  {
   "cell_type": "code",
   "execution_count": 44,
   "metadata": {},
   "outputs": [],
   "source": [
    "def f7(seq):\n",
    "    seen = set()\n",
    "    seen_add = seen.add\n",
    "    return [x for x in seq if not (x in seen or seen_add(x))]"
   ]
  },
  {
   "cell_type": "code",
   "execution_count": 46,
   "metadata": {},
   "outputs": [],
   "source": [
    "player_ppuid_list = f7(ppuid_list)"
   ]
  },
  {
   "cell_type": "code",
   "execution_count": 54,
   "metadata": {},
   "outputs": [],
   "source": [
    "master_player_ppuid_list = []\n",
    "high_diamond_player_ppuid_list = []\n",
    "for i in player_ppuid_list:\n",
    "    if df['name'].eq(get_name_and_tag_by_ppuid('americas', i)['gameName']).any() == True:\n",
    "        master_player_ppuid_list.append(i)\n"
   ]
  },
  {
   "cell_type": "code",
   "execution_count": 60,
   "metadata": {},
   "outputs": [
    {
     "data": {
      "text/plain": [
       "['4xZwHkxuTzAjZRicTZsRGoEyYIlB1b0wJrfc7eBJHJU05O9n3zc_hjxbzZmRKKbysio5YxMwKrB1hA',\n",
       " 'BJw7-6VoCTJ-yHa_4xTAZQXi32lpN68uvSI0lS8aHCZkm8f_FV8N7JrFuwRyRs-H-VgG7HQq9jeoMQ',\n",
       " 'J7qGF8fExQDS41dR04DdlU3-aYQyeIDAAZDKaervE9wLWm0MPd8_nBzmAup2THnyP4VYVfEXnuFG7Q',\n",
       " 'mntI8_yiK4-Im2fZRuDjzPxLXP8f1Ke4XEWYm363j6dygn6pWK5p1fsyFdd2R26bQU5_8iL4W_oCsg',\n",
       " 'G-pwBKC441F80Xs0LBiODUxYXJEQmDRX0lBx7N1HkBLOYigAQpD43DKgpmleG1JL58k5lU1VSzTg-w',\n",
       " 'X6g4iAjziZas4U8KYwmr2uOhIjdxKn9GukXFpaiy5IsgyOhwbgwH9hKFHC3pZPD4rtyWkEN3lc1g5w',\n",
       " 'TMnbGMCj3E1X4fKZGc1IJpWpsBYGxaeJ8huHjbpKG6F76vmGUbERZBe4AiF32T8fPIeiDSY9CRq-kw',\n",
       " 'hk5G-HhZvlJ-wKDDGVhO90hdDlwQz1G8937mcftWuimTmXuHaAY6Ro1epkTvShRJKFDwob2PxGkaKA']"
      ]
     },
     "execution_count": 60,
     "metadata": {},
     "output_type": "execute_result"
    }
   ],
   "source": [
    "master_player_ppuid_list"
   ]
  },
  {
   "cell_type": "code",
   "execution_count": 64,
   "metadata": {},
   "outputs": [],
   "source": [
    "def writeData(filename, data):\n",
    "    with open(filename, 'w') as fp:\n",
    "        json.dump(data, fp,ensure_ascii=False, indent=4)"
   ]
  },
  {
   "cell_type": "code",
   "execution_count": 65,
   "metadata": {},
   "outputs": [],
   "source": [
    "writeData('master_player_list_ppuids.json', master_player_ppuid_list)"
   ]
  }
 ],
 "metadata": {
  "interpreter": {
   "hash": "85f16c083211eedd92a03137cce90561e48e2c7e307d7535c04a1ce4cd1b6a22"
  },
  "kernelspec": {
   "display_name": "Python 3.9.7 ('.lor-data': venv)",
   "language": "python",
   "name": "python3"
  },
  "language_info": {
   "codemirror_mode": {
    "name": "ipython",
    "version": 3
   },
   "file_extension": ".py",
   "mimetype": "text/x-python",
   "name": "python",
   "nbconvert_exporter": "python",
   "pygments_lexer": "ipython3",
   "version": "3.9.7"
  },
  "orig_nbformat": 4
 },
 "nbformat": 4,
 "nbformat_minor": 2
}
