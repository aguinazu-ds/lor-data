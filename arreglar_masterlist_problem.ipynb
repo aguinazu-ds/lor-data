{
 "cells": [
  {
   "cell_type": "code",
   "execution_count": 1,
   "metadata": {},
   "outputs": [],
   "source": [
    "import pandas as pd\n",
    "import glob, os, json\n",
    "import numpy as np\n",
    "from get_name_and_tag_by_ppuid import get_name_and_tag_by_ppuid\n",
    "from api_token import api_token_var_list\n",
    "from read_write_delete_duplicates import readData, writeData, delete_duplicates_list"
   ]
  },
  {
   "cell_type": "code",
   "execution_count": 8,
   "metadata": {},
   "outputs": [],
   "source": [
    "master_list = readData('data/lor-player-data/master_player_list_ppuids.json')"
   ]
  },
  {
   "cell_type": "code",
   "execution_count": 4,
   "metadata": {},
   "outputs": [
    {
     "name": "stdout",
     "output_type": "stream",
     "text": [
      "{'puuid': '4xZwHkxuTzAjZRicTZsRGoEyYIlB1b0wJrfc7eBJHJU05O9n3zc_hjxbzZmRKKbysio5YxMwKrB1hA', 'gameName': 'Bear Barmitzvah', 'tagLine': '1829'}\n"
     ]
    }
   ],
   "source": [
    "print(get_name_and_tag_by_ppuid('americas', master_list[0], api_token_var_list[0]))"
   ]
  },
  {
   "cell_type": "code",
   "execution_count": 9,
   "metadata": {},
   "outputs": [],
   "source": [
    "master_players_list = []"
   ]
  },
  {
   "cell_type": "code",
   "execution_count": null,
   "metadata": {},
   "outputs": [],
   "source": [
    "for player in master_list:\n",
    "    player_info = get_name_and_tag_by_ppuid('americas', player, api_token_var_list[0])\n",
    "    if player_info == 400:\n",
    "        print(player_info)\n",
    "        print('\\n')\n",
    "        break\n",
    "    else:\n",
    "        master_players_list.append({'gameName': player_info['gameName'], 'tagLine': player_info['tagLine']})\n",
    "        print(master_players_list)\n",
    "        master_list.remove(player)\n"
   ]
  },
  {
   "cell_type": "code",
   "execution_count": 112,
   "metadata": {},
   "outputs": [],
   "source": [
    "writeData('data/lor-player-data/master_player_list.json', master_players_list)"
   ]
  },
  {
   "cell_type": "code",
   "execution_count": 111,
   "metadata": {},
   "outputs": [
    {
     "data": {
      "text/plain": [
       "345"
      ]
     },
     "execution_count": 111,
     "metadata": {},
     "output_type": "execute_result"
    }
   ],
   "source": [
    "len(master_list)"
   ]
  },
  {
   "cell_type": "code",
   "execution_count": 115,
   "metadata": {},
   "outputs": [
    {
     "data": {
      "text/plain": [
       "'uQboomQiiGhvEJUZqiNRNfIvbvb-hkJ8IhqqaUbtTmE9DFrFF9G4NcXKDtMJtrTiA8gVBHMmXEytzA'"
      ]
     },
     "execution_count": 115,
     "metadata": {},
     "output_type": "execute_result"
    }
   ],
   "source": [
    "master_list[0]"
   ]
  },
  {
   "cell_type": "code",
   "execution_count": 110,
   "metadata": {},
   "outputs": [
    {
     "name": "stdout",
     "output_type": "stream",
     "text": [
      "{'puuid': 'EU7caI4aILiNyzUPJ423_h8PyLRzc9QP8fA3clD5C2a23otB10mlaXylw1OJI9av__grWI6ik7UCug', 'gameName': 'NNT IzziOwned', 'tagLine': 'NNT'}\n",
      "{'puuid': 'CFpAZHeIiO6nxjYzzPyMuE1VLwXj0aUUUorLYwANpcutHaBKHpTuSFnK-KMaj9t_skWZfRwP_yJKuQ', 'gameName': 'Unifizz', 'tagLine': 'NA1'}\n",
      "{'puuid': 'HnSOWfwvbCyndVdg_gWImlrnfZ62L-NsphC5yDCRj0FY36IIJioanyhd8E9zbUSiOIP4_fcb8J8IvQ', 'gameName': 'DongHuaP', 'tagLine': 'NA1'}\n",
      "{'puuid': 'KGidqHd2YdR2qJQM1vGzgfH5dmA3gTgOIbAvnPMS71MIHwMrfYSwSFfvxCFe51jm3Sg_wehr8aQ64g', 'gameName': 'FuriousPorobear', 'tagLine': 'NA1'}\n",
      "{'puuid': '4a04bJjJvIboatChevD8yEAGLGLvV9S5doS1t3Zff_AbOOutoIloD5UWHhhngMwBZWxfyKAtvUYqAQ', 'gameName': 'Chinorris', 'tagLine': '3797'}\n",
      "{'puuid': 'dllEu5kGBfEVCcbem9moXvji4zjWMVc2rTeHgLCvnJMVztvfm18IhljPXPomp2SzcLtp0PzXbOuoJw', 'gameName': 'gonzie', 'tagLine': '4762'}\n",
      "{'puuid': 'tZsAA1JDKqpMGgX-vuVMen7WkpsEgMQ0TLkwWzAWHdcYFVd2ytIZ2GVh9Wq1rFf-iWDrhJcXmBVHWA', 'gameName': 'Shiny Shedinja', 'tagLine': 'LAN'}\n",
      "{'puuid': 'bew3MRSFyxHmuQzXKk4vbaDwrvkUhWLjVp1F8HFjJYeib5OTC78GKwak484db_jzz_Y4-xtCZlmRrg', 'gameName': 'DarthNihiluss', 'tagLine': 'LAS'}\n",
      "400\n",
      "400\n",
      "\n",
      "\n"
     ]
    }
   ],
   "source": [
    "for player in master_list:\n",
    "    print(player)\n",
    "    player_info = get_name_and_tag_by_ppuid('americas', player, api_token_var_list[5])\n",
    "    print(player_info)\n",
    "    if player_info == 400:\n",
    "        print(player_info)\n",
    "        print('\\n')\n",
    "        break\n",
    "    else:\n",
    "        master_players_list.append({'gameName': player_info['gameName'], 'tagLine': player_info['tagLine']})\n",
    "        master_list.remove(player)"
   ]
  }
 ],
 "metadata": {
  "interpreter": {
   "hash": "85f16c083211eedd92a03137cce90561e48e2c7e307d7535c04a1ce4cd1b6a22"
  },
  "kernelspec": {
   "display_name": "Python 3.9.7 ('.lor-data': venv)",
   "language": "python",
   "name": "python3"
  },
  "language_info": {
   "codemirror_mode": {
    "name": "ipython",
    "version": 3
   },
   "file_extension": ".py",
   "mimetype": "text/x-python",
   "name": "python",
   "nbconvert_exporter": "python",
   "pygments_lexer": "ipython3",
   "version": "3.9.7"
  },
  "orig_nbformat": 4
 },
 "nbformat": 4,
 "nbformat_minor": 2
}
