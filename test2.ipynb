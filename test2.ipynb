{
 "cells": [
  {
   "cell_type": "code",
   "execution_count": 33,
   "metadata": {},
   "outputs": [],
   "source": [
    "import json"
   ]
  },
  {
   "cell_type": "code",
   "execution_count": 2,
   "metadata": {},
   "outputs": [
    {
     "data": {
      "text/html": [
       "<div>\n",
       "<style scoped>\n",
       "    .dataframe tbody tr th:only-of-type {\n",
       "        vertical-align: middle;\n",
       "    }\n",
       "\n",
       "    .dataframe tbody tr th {\n",
       "        vertical-align: top;\n",
       "    }\n",
       "\n",
       "    .dataframe thead th {\n",
       "        text-align: right;\n",
       "    }\n",
       "</style>\n",
       "<table border=\"1\" class=\"dataframe\">\n",
       "  <thead>\n",
       "    <tr style=\"text-align: right;\">\n",
       "      <th></th>\n",
       "      <th>name</th>\n",
       "      <th>rank</th>\n",
       "      <th>lp</th>\n",
       "    </tr>\n",
       "  </thead>\n",
       "  <tbody>\n",
       "    <tr>\n",
       "      <th>0</th>\n",
       "      <td>Kevor24</td>\n",
       "      <td>0</td>\n",
       "      <td>1015.0</td>\n",
       "    </tr>\n",
       "    <tr>\n",
       "      <th>1</th>\n",
       "      <td>ENiamor</td>\n",
       "      <td>1</td>\n",
       "      <td>1001.0</td>\n",
       "    </tr>\n",
       "    <tr>\n",
       "      <th>2</th>\n",
       "      <td>Linister</td>\n",
       "      <td>2</td>\n",
       "      <td>661.0</td>\n",
       "    </tr>\n",
       "    <tr>\n",
       "      <th>3</th>\n",
       "      <td>maybenextime</td>\n",
       "      <td>3</td>\n",
       "      <td>658.0</td>\n",
       "    </tr>\n",
       "    <tr>\n",
       "      <th>4</th>\n",
       "      <td>HDR Dudu de Nunu</td>\n",
       "      <td>4</td>\n",
       "      <td>652.0</td>\n",
       "    </tr>\n",
       "    <tr>\n",
       "      <th>...</th>\n",
       "      <td>...</td>\n",
       "      <td>...</td>\n",
       "      <td>...</td>\n",
       "    </tr>\n",
       "    <tr>\n",
       "      <th>1361</th>\n",
       "      <td>RÎBÕTTÅ</td>\n",
       "      <td>1361</td>\n",
       "      <td>0.0</td>\n",
       "    </tr>\n",
       "    <tr>\n",
       "      <th>1362</th>\n",
       "      <td>JGoddy</td>\n",
       "      <td>1362</td>\n",
       "      <td>0.0</td>\n",
       "    </tr>\n",
       "    <tr>\n",
       "      <th>1363</th>\n",
       "      <td>Eriey</td>\n",
       "      <td>1363</td>\n",
       "      <td>0.0</td>\n",
       "    </tr>\n",
       "    <tr>\n",
       "      <th>1364</th>\n",
       "      <td>SYG bulym</td>\n",
       "      <td>1364</td>\n",
       "      <td>0.0</td>\n",
       "    </tr>\n",
       "    <tr>\n",
       "      <th>1365</th>\n",
       "      <td>Rhodeni</td>\n",
       "      <td>1365</td>\n",
       "      <td>0.0</td>\n",
       "    </tr>\n",
       "  </tbody>\n",
       "</table>\n",
       "<p>1366 rows × 3 columns</p>\n",
       "</div>"
      ],
      "text/plain": [
       "                  name  rank      lp\n",
       "0              Kevor24     0  1015.0\n",
       "1              ENiamor     1  1001.0\n",
       "2             Linister     2   661.0\n",
       "3         maybenextime     3   658.0\n",
       "4     HDR Dudu de Nunu     4   652.0\n",
       "...                ...   ...     ...\n",
       "1361           RÎBÕTTÅ  1361     0.0\n",
       "1362            JGoddy  1362     0.0\n",
       "1363             Eriey  1363     0.0\n",
       "1364         SYG bulym  1364     0.0\n",
       "1365           Rhodeni  1365     0.0\n",
       "\n",
       "[1366 rows x 3 columns]"
      ]
     },
     "execution_count": 2,
     "metadata": {},
     "output_type": "execute_result"
    }
   ],
   "source": [
    "df = pd.json_normalize(pd.read_json('data/master-leaderboard-data/data_americas.json').iloc[:,0])\n",
    "df"
   ]
  },
  {
   "cell_type": "code",
   "execution_count": 2,
   "metadata": {},
   "outputs": [],
   "source": [
    "def writeData(filename, data):\n",
    "    with open(filename, 'w') as file:\n",
    "         file.write(format(json.dumps(data, ensure_ascii=False, indent=4)))\n",
    "\n",
    "\n",
    "def readData(filename):\n",
    "    data = None\n",
    "    with open(filename, 'r') as fp:\n",
    "        data = json.load(fp)\n",
    "\n",
    "    return data\n",
    "\n",
    "def delete_duplicates_list(seq):\n",
    "    seen = set()\n",
    "    seen_add = seen.add\n",
    "    return [x for x in seq if not (x in seen or seen_add(x))]"
   ]
  },
  {
   "cell_type": "code",
   "execution_count": 4,
   "metadata": {},
   "outputs": [],
   "source": [
    "master_player_list_ppuids = readData('master_player_list_ppuids.json')"
   ]
  },
  {
   "cell_type": "code",
   "execution_count": 5,
   "metadata": {},
   "outputs": [],
   "source": [
    "#conseguir match id's\n",
    "match_list = []\n",
    "\n",
    "for i in master_player_list_ppuids:\n",
    "    match_list = match_list + get_matchs_by_ppuid(i, 'americas')"
   ]
  },
  {
   "cell_type": "code",
   "execution_count": 6,
   "metadata": {},
   "outputs": [],
   "source": [
    "match_list = delete_duplicates_list(match_list)"
   ]
  },
  {
   "cell_type": "code",
   "execution_count": null,
   "metadata": {},
   "outputs": [],
   "source": [
    "match_list"
   ]
  },
  {
   "cell_type": "code",
   "execution_count": 8,
   "metadata": {},
   "outputs": [],
   "source": [
    "CALLS = 100\n",
    "RATE_LIMIT = 120\n",
    "\n",
    "@sleep_and_retry\n",
    "@limits(calls=CALLS, period=RATE_LIMIT)\n",
    "def check_limit():\n",
    "    ''' Empty function just to check for calls to API '''\n",
    "    return"
   ]
  },
  {
   "cell_type": "code",
   "execution_count": 56,
   "metadata": {},
   "outputs": [
    {
     "data": {
      "text/plain": [
       "'aefb9f42-7c79-4d2b-a1c6-e36e3ca7c0cf'"
      ]
     },
     "execution_count": 56,
     "metadata": {},
     "output_type": "execute_result"
    }
   ],
   "source": [
    "match_list[139]"
   ]
  },
  {
   "cell_type": "code",
   "execution_count": null,
   "metadata": {},
   "outputs": [],
   "source": [
    "ppuid_list = []"
   ]
  },
  {
   "cell_type": "code",
   "execution_count": null,
   "metadata": {},
   "outputs": [],
   "source": [
    "#conseguir ppuid según los match ids\n",
    "\n",
    "ppuid_list = []\n",
    "\n",
    "for i in range(141,159):\n",
    "    try:\n",
    "        match_info = get_match_info_by_id('americas', match_list[i])\n",
    "        if match_info[\"info\"][\"game_type\"] == \"Ranked\":\n",
    "            print('{} {}'.format(i, match_info[\"info\"][\"game_type\"] == \"Ranked\") )\n",
    "            ppuid_list = ppuid_list + match_info['metadata']['participants']\n",
    "    except:\n",
    "        pass"
   ]
  },
  {
   "cell_type": "code",
   "execution_count": 51,
   "metadata": {},
   "outputs": [],
   "source": [
    "ppuid_list_respaldo = delete_duplicates_list(ppuid_list)"
   ]
  },
  {
   "cell_type": "code",
   "execution_count": 53,
   "metadata": {},
   "outputs": [
    {
     "data": {
      "text/plain": [
       "37"
      ]
     },
     "execution_count": 53,
     "metadata": {},
     "output_type": "execute_result"
    }
   ],
   "source": [
    "len(ppuid_list_respaldo)"
   ]
  },
  {
   "cell_type": "code",
   "execution_count": null,
   "metadata": {},
   "outputs": [],
   "source": [
    "delete_duplicates_list(readData('player_list_ppuids.json') + ppuid_list_respaldo)"
   ]
  },
  {
   "cell_type": "code",
   "execution_count": 54,
   "metadata": {},
   "outputs": [],
   "source": [
    "with open('player_list_ppuids.json', 'r+') as file:\n",
    "    file_data = json.load(file)\n",
    "    file_data = delete_duplicates_list(file_data + delete_duplicates_list(ppuid_list_respaldo))\n",
    "    file.seek(0)\n",
    "    json.dump(file_data, file, indent=4)"
   ]
  },
  {
   "cell_type": "code",
   "execution_count": 64,
   "metadata": {},
   "outputs": [],
   "source": [
    "player_list_ppuids = readData('player_list_ppuids.json')"
   ]
  },
  {
   "cell_type": "code",
   "execution_count": 66,
   "metadata": {},
   "outputs": [],
   "source": [
    "master_player_ppuid_list = []\n",
    "high_diamond_player_ppuid_list = []"
   ]
  },
  {
   "cell_type": "code",
   "execution_count": 68,
   "metadata": {},
   "outputs": [],
   "source": [
    "for i in player_list_ppuids:\n",
    "    if df['name'].eq(get_name_and_tag_by_ppuid('americas', i)['gameName']).any() == True:\n",
    "        master_player_ppuid_list.append(i)\n",
    "    else:\n",
    "        high_diamond_player_ppuid_list.append(i)"
   ]
  },
  {
   "cell_type": "code",
   "execution_count": 77,
   "metadata": {},
   "outputs": [],
   "source": [
    "def write_to_json(lst, fn):\n",
    "    with open(fn, 'a', encoding='utf-8') as file:\n",
    "        for item in lst:\n",
    "            x = json.dumps(item, indent=4)\n",
    "            file.write(x + '\\n')"
   ]
  },
  {
   "cell_type": "code",
   "execution_count": 81,
   "metadata": {},
   "outputs": [],
   "source": [
    "writeData('data/lor-player-data/master_player_list_ppuids.json', master_player_list_ppuids)"
   ]
  },
  {
   "cell_type": "code",
   "execution_count": 82,
   "metadata": {},
   "outputs": [],
   "source": [
    "writeData('data/lor-player-data/high_diamond_player_ppuid_list.json', high_diamond_player_ppuid_list)"
   ]
  },
  {
   "cell_type": "code",
   "execution_count": 1,
   "metadata": {},
   "outputs": [],
   "source": [
    "import json"
   ]
  },
  {
   "cell_type": "code",
   "execution_count": 7,
   "metadata": {},
   "outputs": [],
   "source": [
    "test1 = [{'a':1, 'b':2},{'c':3, 'd':4}]\n",
    "test2 = {'c':3, 'd':4}"
   ]
  },
  {
   "cell_type": "code",
   "execution_count": 9,
   "metadata": {},
   "outputs": [],
   "source": [
    "writeData('testjson.json', test1)"
   ]
  }
 ],
 "metadata": {
  "interpreter": {
   "hash": "85f16c083211eedd92a03137cce90561e48e2c7e307d7535c04a1ce4cd1b6a22"
  },
  "kernelspec": {
   "display_name": "Python 3.9.7 ('.lor-data': venv)",
   "language": "python",
   "name": "python3"
  },
  "language_info": {
   "codemirror_mode": {
    "name": "ipython",
    "version": 3
   },
   "file_extension": ".py",
   "mimetype": "text/x-python",
   "name": "python",
   "nbconvert_exporter": "python",
   "pygments_lexer": "ipython3",
   "version": "3.9.7"
  },
  "orig_nbformat": 4
 },
 "nbformat": 4,
 "nbformat_minor": 2
}
