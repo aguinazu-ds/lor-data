{
 "cells": [
  {
   "cell_type": "code",
   "execution_count": 71,
   "metadata": {},
   "outputs": [],
   "source": [
    "import pandas as pd\n",
    "import glob, os, json\n",
    "import numpy as np"
   ]
  },
  {
   "cell_type": "code",
   "execution_count": 72,
   "metadata": {},
   "outputs": [],
   "source": [
    "json_match_data_dir = 'data/lor-match-data'\n",
    "json_pattern = os.path.join(json_match_data_dir, '*.json')\n",
    "file_list = glob.glob(json_pattern)"
   ]
  },
  {
   "cell_type": "code",
   "execution_count": 79,
   "metadata": {},
   "outputs": [],
   "source": [
    "dfs = []\n",
    "for filename in file_list:\n",
    "    data = pd.read_json(filename)\n",
    "    dfs.append(data)\n",
    "\n",
    "df = pd.concat(dfs, ignore_index=True)\n",
    "df_extendida = pd.concat([pd.json_normalize(df.iloc[:,0]),pd.json_normalize(df.iloc[:,1])], axis=1, join=\"inner\")"
   ]
  },
  {
   "cell_type": "code",
   "execution_count": 82,
   "metadata": {},
   "outputs": [],
   "source": [
    "list_ppuids =  list(np.concatenate(df_extendida.loc[(df_extendida.game_type == 'Ranked') | (df_extendida.game_mode == \"SeasonalTournamentLobby\")]['participants'].to_list()).flat)"
   ]
  },
  {
   "cell_type": "code",
   "execution_count": null,
   "metadata": {},
   "outputs": [],
   "source": [
    "def delete_duplicates_list(seq):\n",
    "    seen = set()\n",
    "    seen_add = seen.add\n",
    "    return [x for x in seq if not (x in seen or seen_add(x))]\n",
    "\n",
    "list_ppuids_no_duplicates = delete_duplicates_list(list_ppuids)"
   ]
  },
  {
   "cell_type": "code",
   "execution_count": null,
   "metadata": {},
   "outputs": [],
   "source": [
    "len(list_ppuids_no_duplicates)"
   ]
  },
  {
   "cell_type": "code",
   "execution_count": 84,
   "metadata": {},
   "outputs": [],
   "source": [
    "#check list de ppuids y separar por master y diamond+\n",
    "#primero cargamos los archivos que contienen nuestra info anterior\n",
    "\n",
    "def readData(filename):\n",
    "    data = None\n",
    "    with open(filename, 'r') as fp:\n",
    "        data = json.load(fp)\n",
    "\n",
    "    return data\n",
    "\n",
    "list_master_player_ppuid = readData(\"data/lor-player-data/master_player_list_ppuids.json\")\n",
    "list_highDiamond_player_ppuid = readData(\"data/lor-player-data/high_diamond_player_ppuid_list.json\")\n",
    "\n",
    "#Cargamos base de datos del master leaderboard\n",
    "df_master_leaderboard = pd.json_normalize(pd.read_json('data/master-leaderboard-data/data_americas.json').iloc[:,0])"
   ]
  },
  {
   "cell_type": "code",
   "execution_count": null,
   "metadata": {},
   "outputs": [],
   "source": []
  },
  {
   "cell_type": "code",
   "execution_count": 69,
   "metadata": {},
   "outputs": [
    {
     "data": {
      "text/plain": [
       "True"
      ]
     },
     "execution_count": 69,
     "metadata": {},
     "output_type": "execute_result"
    }
   ],
   "source": [
    "(df_master_leaderboard.name == 'Kevor24').any()"
   ]
  }
 ],
 "metadata": {
  "interpreter": {
   "hash": "85f16c083211eedd92a03137cce90561e48e2c7e307d7535c04a1ce4cd1b6a22"
  },
  "kernelspec": {
   "display_name": "Python 3.9.7 ('.lor-data': venv)",
   "language": "python",
   "name": "python3"
  },
  "language_info": {
   "codemirror_mode": {
    "name": "ipython",
    "version": 3
   },
   "file_extension": ".py",
   "mimetype": "text/x-python",
   "name": "python",
   "nbconvert_exporter": "python",
   "pygments_lexer": "ipython3",
   "version": "3.9.7"
  },
  "orig_nbformat": 4
 },
 "nbformat": 4,
 "nbformat_minor": 2
}
