{
 "cells": [
  {
   "cell_type": "code",
   "execution_count": 1,
   "metadata": {},
   "outputs": [],
   "source": [
    "import pandas as pd\n",
    "import glob, os, json\n",
    "import numpy as np\n",
    "from get_name_and_tag_by_ppuid import get_name_and_tag_by_ppuid\n",
    "from api_token import api_token_var_list"
   ]
  },
  {
   "cell_type": "code",
   "execution_count": 119,
   "metadata": {},
   "outputs": [],
   "source": [
    "json_match_data_dir = 'data/lor-match-data'\n",
    "json_pattern = os.path.join(json_match_data_dir, '*.json')\n",
    "file_list = glob.glob(json_pattern)"
   ]
  },
  {
   "cell_type": "code",
   "execution_count": 79,
   "metadata": {},
   "outputs": [],
   "source": [
    "dfs = []\n",
    "for filename in file_list:\n",
    "    data = pd.read_json(filename)\n",
    "    dfs.append(data)\n",
    "\n",
    "df = pd.concat(dfs, ignore_index=True)\n",
    "df_extendida = pd.concat([pd.json_normalize(df.iloc[:,0]),pd.json_normalize(df.iloc[:,1])], axis=1, join=\"inner\")"
   ]
  },
  {
   "cell_type": "code",
   "execution_count": 7,
   "metadata": {},
   "outputs": [],
   "source": [
    "df = pd.read_json('data/lor-match-data/match_data-20220212-040548.json')\n",
    "# df_extendida = pd.concat([pd.json_normalize(df.iloc[:,0]),pd.json_normalize(df.iloc[:,1])], axis=1, join=\"inner\")"
   ]
  },
  {
   "cell_type": "code",
   "execution_count": 8,
   "metadata": {},
   "outputs": [],
   "source": [
    "df_list = []\n",
    "for index in range(len(df.columns)):\n",
    "    df_list.append(pd.DataFrame(df.iloc[:,index][index]))\n",
    "    df_list[index]['API Key'] = df.columns[index]\n",
    "    "
   ]
  },
  {
   "cell_type": "code",
   "execution_count": 10,
   "metadata": {},
   "outputs": [],
   "source": [
    "for index in range(len(df_list)):\n",
    "    df_list[index] = pd.concat([pd.json_normalize(df_list[index].iloc[:,0]),pd.json_normalize(df_list[index].iloc[:,1]), df_list[index]['API Key']], axis=1, join=\"inner\")"
   ]
  },
  {
   "cell_type": "code",
   "execution_count": 6,
   "metadata": {},
   "outputs": [],
   "source": [
    "dict_apikey_ppuids = {'{}'.format(df_list[0].iloc[0:,-1][0]) : list(np.concatenate(df_list[0].loc[(df_list[0].game_type == 'Ranked') | (df_list[0].game_mode == \"SeasonalTournamentLobby\")]['participants'].to_list()).flat)} "
   ]
  },
  {
   "cell_type": "code",
   "execution_count": 12,
   "metadata": {},
   "outputs": [],
   "source": [
    "dict_apikey_ppuids = {}\n",
    "\n",
    "for index in range(len(df_list)):\n",
    "    dict_apikey_ppuids['{}'.format(df_list[index].iloc[0:,-1][0])] = list(np.concatenate(df_list[index].loc[(df_list[index].game_type == 'Ranked') | (df_list[index].game_mode == \"SeasonalTournamentLobby\")]['participants'].to_list()).flat) "
   ]
  },
  {
   "cell_type": "code",
   "execution_count": 14,
   "metadata": {},
   "outputs": [],
   "source": [
    "def delete_duplicates_list(seq):\n",
    "    seen = set()\n",
    "    seen_add = seen.add\n",
    "    return [x for x in seq if not (x in seen or seen_add(x))]\n",
    "\n",
    "dict_apikeys_ppuids_no_duplicates = dict_apikey_ppuids.copy()\n",
    "for index in range(len(df_list)):\n",
    "    dict_apikeys_ppuids_no_duplicates['{}'.format(df_list[index].iloc[0:,-1][0])] = delete_duplicates_list(dict_apikeys_ppuids_no_duplicates['{}'.format(df_list[index].iloc[0:,-1][0])])"
   ]
  },
  {
   "cell_type": "code",
   "execution_count": 16,
   "metadata": {},
   "outputs": [],
   "source": [
    "#check list de ppuids y separar por master y diamond+\n",
    "#primero cargamos los archivos que contienen nuestra info anterior\n",
    "\n",
    "def readData(filename):\n",
    "    data = None\n",
    "    with open(filename, 'r') as fp:\n",
    "        data = json.load(fp)\n",
    "\n",
    "    return data\n",
    "\n",
    "list_master_player_ppuid = readData(\"data/lor-player-data/master_player_list.json\")\n",
    "list_highDiamond_player_ppuid = readData(\"data/lor-player-data/highdiamond_player_list.json\")\n",
    "\n",
    "#Cargamos base de datos del master leaderboard\n",
    "df_master_leaderboard = pd.json_normalize(pd.read_json('data/master-leaderboard-data/data_americas.json').iloc[:,0])"
   ]
  },
  {
   "cell_type": "code",
   "execution_count": null,
   "metadata": {},
   "outputs": [],
   "source": [
    "for key in dict_apikeys_ppuids_no_duplicates.keys():\n",
    "    counter = 0\n",
    "    print('Comenzando Loop con la API Key {}'.format(key))\n",
    "    print(\"\\n\")\n",
    "    for player in dict_apikeys_ppuids_no_duplicates[key]:\n",
    "        counter +=1\n",
    "        if player not in (list_master_player_ppuid or list_highDiamond_player_ppuid):\n",
    "            try:\n",
    "                ppuid_info = get_name_and_tag_by_ppuid('americas', player, key)\n",
    "                if ppuid_info == 429:\n",
    "                    print(\"\\n\")\n",
    "                    print('Error 429 en paso {} relacionado a la API Key {}'.format(counter, key))\n",
    "                    print('Terminando recolección de datos de la API Key {}'.format(key))\n",
    "                    print(\"\\n\")\n",
    "                elif (df_master_leaderboard.iloc[:,0] == ppuid_info['gameName']).any() == True:\n",
    "                    print('Agregando {} a list_master_player_ppuid'.format(player))\n",
    "                    list_master_player_ppuid.append(player)\n",
    "                elif (df_master_leaderboard.iloc[:,0] == ppuid_info['gameName']).any() == False:\n",
    "                    print('Agregando {} a list_highDiamond_player_ppuid'.format(player))\n",
    "                    list_highDiamond_player_ppuid.append(player)\n",
    "                else:\n",
    "                    print(ppuid_info)\n",
    "            except:\n",
    "                print(\"\\n\")\n",
    "                print('Hay algún otro error en el paso {} de la API Key {}....'.format(counter, key))\n",
    "                print(\"\\n\")\n",
    "    \n",
    "    print(\"\\n\")\n",
    "    print('Completado el Loop Relacionado a la API Key {}'.format(key))\n",
    "    print('Reseteando el contador a cero...')\n",
    "    print(\"\\n\")"
   ]
  },
  {
   "cell_type": "code",
   "execution_count": 102,
   "metadata": {},
   "outputs": [],
   "source": [
    "list_ppuids_no_duplicates[40] not in (list_master_player_ppuid or list_highDiamond_player_ppuid)\n",
    "ppuid_info = get_name_and_tag_by_ppuid('americas', list_ppuids_no_duplicates[40])"
   ]
  },
  {
   "cell_type": "code",
   "execution_count": null,
   "metadata": {},
   "outputs": [],
   "source": [
    "api_key_index = 0\n",
    "counter = 0\n",
    "\n",
    "for player in list_ppuids_no_duplicates:\n",
    "    counter += 1\n",
    "    print('{} not in (list_master_player_ppuid or list_highDiamond_player_ppuid) = {}'.format(player, player not in (list_master_player_ppuid or list_highDiamond_player_ppuid)))\n",
    "    if player not in (list_master_player_ppuid or list_highDiamond_player_ppuid):\n",
    "        try:\n",
    "            ppuid_info = get_name_and_tag_by_ppuid('americas', player, api_token_var_list[api_key_index])\n",
    "            if ppuid_info == 400:\n",
    "                print('wrong API key, cambiandola a otra ....')\n",
    "                api_key_index +=1                \n",
    "            elif ppuid_info == 429:\n",
    "                api_key_index += 1\n",
    "                print('Error en paso {}'.format(counter))\n",
    "                print('Error 429, cambiando API Key a {}'.format(api_token_var_list[api_key_index]))\n",
    "                if api_key_index > len(api_token_var_list)-1:\n",
    "                    print('No me quedan más API Keys')\n",
    "                    break\n",
    "            elif match_info == 404:\n",
    "                print('Error en paso {}'.format(counter))\n",
    "                print('Error 404, no se encontro información relacionada al ppuid {}'.format(match))\n",
    "            elif (df_master_leaderboard.iloc[:,0] == ppuid_info['gameName']).any() == True:\n",
    "                print('Agregando {} a list_master_player_ppuid')\n",
    "                list_master_player_ppuid.append(player)\n",
    "            else:\n",
    "                print('Agregando {} a list_highDiamond_player_ppuid')\n",
    "                list_highDiamond_player_ppuid.append(player)\n",
    "        except:\n",
    "            print('algun error')"
   ]
  },
  {
   "cell_type": "code",
   "execution_count": 44,
   "metadata": {},
   "outputs": [],
   "source": [
    "def writeData(filename, data):\n",
    "    with open(filename, 'w') as file:\n",
    "         file.write(format(json.dumps(data, ensure_ascii=False, indent=4)))"
   ]
  },
  {
   "cell_type": "code",
   "execution_count": 45,
   "metadata": {},
   "outputs": [],
   "source": [
    "writeData('data/lor-player-data/master_player_list_ppuids.json', list_master_player_ppuid)\n",
    "writeData('data/lor-player-data/high_diamond_player_ppuid_list.json', delete_duplicates_list(list_highDiamond_player_ppuid))"
   ]
  },
  {
   "cell_type": "code",
   "execution_count": 115,
   "metadata": {},
   "outputs": [],
   "source": [
    "test = readData('data/lor-match-data/match-lists/match_list-20220211-233732.json')"
   ]
  },
  {
   "cell_type": "code",
   "execution_count": 117,
   "metadata": {},
   "outputs": [
    {
     "data": {
      "text/plain": [
       "1598"
      ]
     },
     "execution_count": 117,
     "metadata": {},
     "output_type": "execute_result"
    }
   ],
   "source": [
    "len(delete_duplicates_list(test))"
   ]
  },
  {
   "cell_type": "code",
   "execution_count": 46,
   "metadata": {},
   "outputs": [],
   "source": [
    "master_player_list = readData('data/lor-player-data/master_player_list.json')"
   ]
  },
  {
   "cell_type": "code",
   "execution_count": null,
   "metadata": {},
   "outputs": [],
   "source": [
    "master_player_list"
   ]
  },
  {
   "cell_type": "code",
   "execution_count": 48,
   "metadata": {},
   "outputs": [],
   "source": [
    "new_d = []\n",
    "for x in master_player_list:\n",
    "    if x not in new_d:\n",
    "        new_d.append(x)"
   ]
  },
  {
   "cell_type": "code",
   "execution_count": 50,
   "metadata": {},
   "outputs": [
    {
     "data": {
      "text/plain": [
       "375"
      ]
     },
     "execution_count": 50,
     "metadata": {},
     "output_type": "execute_result"
    }
   ],
   "source": [
    "len(new_d)"
   ]
  },
  {
   "cell_type": "code",
   "execution_count": 51,
   "metadata": {},
   "outputs": [],
   "source": [
    "writeData('data/lor-player-data/master_player_list.json', new_d)"
   ]
  },
  {
   "cell_type": "code",
   "execution_count": 52,
   "metadata": {},
   "outputs": [],
   "source": [
    "match1 = readData('data/lor-match-data/match-lists/match_list-20220211-233732.json')\n",
    "match2 = readData('data/lor-match-data/match-lists/master-match_list-20220212-205559.json')"
   ]
  },
  {
   "cell_type": "code",
   "execution_count": 59,
   "metadata": {},
   "outputs": [
    {
     "data": {
      "text/plain": [
       "1063"
      ]
     },
     "execution_count": 59,
     "metadata": {},
     "output_type": "execute_result"
    }
   ],
   "source": [
    "match1.index(\"755511c9-94d5-4349-8509-c1b0efe4bf82\")"
   ]
  },
  {
   "cell_type": "code",
   "execution_count": 69,
   "metadata": {},
   "outputs": [
    {
     "data": {
      "text/plain": [
       "6512"
      ]
     },
     "execution_count": 69,
     "metadata": {},
     "output_type": "execute_result"
    }
   ],
   "source": [
    "len(delete_duplicates_list(match2))"
   ]
  },
  {
   "cell_type": "code",
   "execution_count": 70,
   "metadata": {},
   "outputs": [],
   "source": [
    "for x in match2:\n",
    "    if x in match1[:1064]:\n",
    "        match2.pop(match2.index(x))"
   ]
  },
  {
   "cell_type": "code",
   "execution_count": 72,
   "metadata": {},
   "outputs": [],
   "source": [
    "writeData('data/lor-match-data/match-lists/master-match_list-20220212-232705.json', match2)"
   ]
  },
  {
   "cell_type": "code",
   "execution_count": 67,
   "metadata": {},
   "outputs": [
    {
     "data": {
      "text/plain": [
       "'755511c9-94d5-4349-8509-c1b0efe4bf82'"
      ]
     },
     "execution_count": 67,
     "metadata": {},
     "output_type": "execute_result"
    }
   ],
   "source": [
    "match1[:1064][1063]"
   ]
  },
  {
   "cell_type": "code",
   "execution_count": 57,
   "metadata": {},
   "outputs": [
    {
     "data": {
      "text/plain": [
       "'d9b210a3-d5ac-4fe9-80ed-1a8004a50ab4'"
      ]
     },
     "execution_count": 57,
     "metadata": {},
     "output_type": "execute_result"
    }
   ],
   "source": [
    "match1[900]"
   ]
  },
  {
   "cell_type": "code",
   "execution_count": 73,
   "metadata": {},
   "outputs": [],
   "source": [
    "def test2():\n",
    "    return 'a', 'b'"
   ]
  },
  {
   "cell_type": "code",
   "execution_count": 74,
   "metadata": {},
   "outputs": [],
   "source": [
    "x = test2()"
   ]
  },
  {
   "cell_type": "code",
   "execution_count": 75,
   "metadata": {},
   "outputs": [
    {
     "data": {
      "text/plain": [
       "'a'"
      ]
     },
     "execution_count": 75,
     "metadata": {},
     "output_type": "execute_result"
    }
   ],
   "source": [
    "x[0]"
   ]
  }
 ],
 "metadata": {
  "interpreter": {
   "hash": "85f16c083211eedd92a03137cce90561e48e2c7e307d7535c04a1ce4cd1b6a22"
  },
  "kernelspec": {
   "display_name": "Python 3.9.7 ('.lor-data': venv)",
   "language": "python",
   "name": "python3"
  },
  "language_info": {
   "codemirror_mode": {
    "name": "ipython",
    "version": 3
   },
   "file_extension": ".py",
   "mimetype": "text/x-python",
   "name": "python",
   "nbconvert_exporter": "python",
   "pygments_lexer": "ipython3",
   "version": "3.9.7"
  },
  "orig_nbformat": 4
 },
 "nbformat": 4,
 "nbformat_minor": 2
}
